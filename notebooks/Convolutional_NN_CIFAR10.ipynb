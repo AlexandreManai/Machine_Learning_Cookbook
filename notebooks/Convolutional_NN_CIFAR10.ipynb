{
 "cells": [
  {
   "cell_type": "markdown",
   "metadata": {},
   "source": [
    "# 1. Introduction"
   ]
  },
  {
   "cell_type": "markdown",
   "metadata": {},
   "source": [
    "Welcome to this notebook where we will venture into the world of Machine Learning with one of its simplest, yet powerful techniques: Linear Regression. Here, we will predict the median price of homes in various Boston neighborhoods, using the widely-used Boston Housing dataset. This is a regression task, meaning we are trying to predict a continuous value (house prices) rather than a discrete label (e.g., spam or not-spam). Let's dive right in!"
   ]
  },
  {
   "cell_type": "markdown",
   "metadata": {},
   "source": [
    "# 2. Importing the Necessary Libraries"
   ]
  },
  {
   "cell_type": "markdown",
   "metadata": {},
   "source": [
    "As a good practice, we always start by importing all the libraries we'll need at the top. This makes it clear what our dependencies are, and ensures we have everything we need before we start coding."
   ]
  },
  {
   "cell_type": "code",
   "execution_count": 141,
   "metadata": {},
   "outputs": [],
   "source": [
    "import os \n",
    "import pandas as pd\n",
    "import numpy as np \n",
    "import torch\n",
    "from torchvision.io import read_image\n",
    "import torch.nn as nn\n",
    "import torchvision\n",
    "from torchvision import datasets\n",
    "import torchvision.transforms as transforms\n",
    "from torch.utils.data import Dataset, DataLoader\n",
    "import matplotlib.pyplot as plt\n",
    "import seaborn as sns\n",
    "import pickle\n",
    "import torch.nn.functional as F"
   ]
  },
  {
   "cell_type": "code",
   "execution_count": 142,
   "metadata": {},
   "outputs": [
    {
     "data": {
      "text/plain": [
       "device(type='mps')"
      ]
     },
     "execution_count": 142,
     "metadata": {},
     "output_type": "execute_result"
    }
   ],
   "source": [
    "device = torch.device(\"mps\" if torch.backends.mps.is_available() else \"cpu\")\n",
    "device"
   ]
  },
  {
   "cell_type": "markdown",
   "metadata": {},
   "source": [
    "# 3. Loading the Dataset"
   ]
  },
  {
   "cell_type": "markdown",
   "metadata": {},
   "source": [
    "Now, let's load the Boston Housing dataset."
   ]
  },
  {
   "cell_type": "code",
   "execution_count": 107,
   "metadata": {},
   "outputs": [],
   "source": [
    "class CIFAR10_CustomDataset(Dataset):\n",
    "    def __init__(self, num_batches=5, test_data=False, data_path=\"../data/\", folder_name=\"cifar-10-batches-py\", transform=None, label_transform=None):\n",
    "        self.num_batches = num_batches\n",
    "        self.transform = transform\n",
    "        self.label_transform = label_transform\n",
    "        self.data_path = data_path\n",
    "        self.folder_name = folder_name\n",
    "\n",
    "        self.data = []\n",
    "        self.labels = []\n",
    "        self.label_names = []\n",
    "\n",
    "        label_names_dict = self.unpickle(os.path.join(data_path, folder_name, 'batches.meta'))\n",
    "        self.label_names = label_names_dict[b'label_names']\n",
    "\n",
    "        if test_data:\n",
    "            data_dict = self.unpickle(os.path.join(data_path, folder_name, 'test_batch'))\n",
    "            self.data.append(data_dict[b'data'])\n",
    "            self.labels.append(data_dict[b'labels'])\n",
    "        else:\n",
    "            for i in range(1, num_batches+1):\n",
    "                data_dict = self.unpickle(os.path.join(data_path, folder_name, 'data_batch_{}'.format(i)))\n",
    "                self.data.append(data_dict[b'data'])\n",
    "                self.labels.append(data_dict[b'labels'])\n",
    "        \n",
    "        # Decode to utf-8\n",
    "        self.label_names = [x.decode('utf-8') for x in self.label_names]\n",
    "\n",
    "        # Concatenate all the data and labels\n",
    "        self.data = np.concatenate(self.data).reshape(-1, 3, 32, 32)\n",
    "        self.labels = np.concatenate(self.labels)\n",
    "\n",
    "    def __len__(self):\n",
    "        return len(self.data)\n",
    "\n",
    "    def __getitem__(self, idx):\n",
    "        image = self.data[idx]\n",
    "        label = self.labels[idx]\n",
    "\n",
    "        if self.transform:\n",
    "            image = self.transform(image)\n",
    "\n",
    "        if self.label_transform:\n",
    "            label = self.label_transform(label)\n",
    "\n",
    "        return image, label        \n",
    "\n",
    "    def unpickle(self, file):\n",
    "        with open(file, 'rb') as fo:\n",
    "            dict = pickle.load(fo, encoding='bytes')\n",
    "        return dict\n",
    "    \n",
    "    def show_image(self, idx):\n",
    "        plt.imshow(self.data[idx].transpose(1, 2, 0))\n",
    "        plt.title(self.label_names[self.labels[idx]])\n",
    "        plt.show()"
   ]
  },
  {
   "cell_type": "markdown",
   "metadata": {},
   "source": [
    "# 4. Preprocessing for EDA ( if necessary )"
   ]
  },
  {
   "cell_type": "code",
   "execution_count": 143,
   "metadata": {},
   "outputs": [],
   "source": [
    "transform = transforms.Compose([\n",
    "    transforms.ToTensor(),\n",
    "    transforms.Normalize((0.5, 0.5, 0.5), (0.5, 0.5, 0.5))\n",
    "])"
   ]
  },
  {
   "cell_type": "code",
   "execution_count": 144,
   "metadata": {},
   "outputs": [
    {
     "name": "stdout",
     "output_type": "stream",
     "text": [
      "Files already downloaded and verified\n",
      "Files already downloaded and verified\n"
     ]
    }
   ],
   "source": [
    "# choose the training and test datasets\n",
    "train_data = datasets.CIFAR10('data', train=True,\n",
    "                              download=True, transform=transform)\n",
    "test_data = datasets.CIFAR10('data', train=False,\n",
    "                             download=True, transform=transform)"
   ]
  },
  {
   "cell_type": "markdown",
   "metadata": {},
   "source": [
    "# 5. Exploratory Data Analysis ( EDA )"
   ]
  },
  {
   "cell_type": "markdown",
   "metadata": {},
   "source": [
    "Before we dive into modeling, it's a good idea to explore our dataset. This can include looking at the raw data, checking for missing values, visualizing the distributions of variables, and understanding the relationships between different variables. See at `cheatsheets/...` for a Cheat Sheet on all the basic things to look for."
   ]
  },
  {
   "cell_type": "code",
   "execution_count": 4,
   "metadata": {},
   "outputs": [],
   "source": [
    "# No need"
   ]
  },
  {
   "cell_type": "markdown",
   "metadata": {},
   "source": [
    "# 6. Data Preprocessing"
   ]
  },
  {
   "cell_type": "markdown",
   "metadata": {},
   "source": [
    "Before we dive into modeling, it's a good idea to explore our dataset. This can include looking at the raw data, checking for missing values, visualizing the distributions of variables, and understanding the relationships between different variables. See at `cheatsheets/Preprocessing.md` for a Cheat Sheet on all the basic things to look for."
   ]
  },
  {
   "cell_type": "code",
   "execution_count": 145,
   "metadata": {},
   "outputs": [],
   "source": [
    "# train_data = CIFAR10_CustomDataset(test_data=False, transform=tranform)\n",
    "# test_data = CIFAR10_CustomDataset(test_data=True, transform=tranform)\n",
    "\n",
    "train_loader = DataLoader(train_data, batch_size=4, shuffle=True, num_workers=2)\n",
    "test_loader = DataLoader(test_data, batch_size=4, shuffle=False, num_workers=2)"
   ]
  },
  {
   "cell_type": "markdown",
   "metadata": {},
   "source": [
    "# 7. Model Implementation"
   ]
  },
  {
   "cell_type": "markdown",
   "metadata": {},
   "source": [
    "Finally, we come to the heart of our notebook: implementing the Linear Regression model! We'll fit the model to our training data and make predictions on our testing data."
   ]
  },
  {
   "cell_type": "code",
   "execution_count": 146,
   "metadata": {},
   "outputs": [],
   "source": [
    "class ConvNet(nn.Module):\n",
    "    def __init__(self):\n",
    "        super().__init__()\n",
    "        self.conv1 = nn.Conv2d(3, 6, 5)\n",
    "        self.pool = nn.MaxPool2d(2, 2)\n",
    "        self.conv2 = nn.Conv2d(6, 16, 5)\n",
    "        self.fc1  = nn.Linear(16 * 5 * 5, 120)\n",
    "        self.fc2  = nn.Linear(120, 84)\n",
    "        self.fc3  = nn.Linear(84, 10)\n",
    "\n",
    "    def forward(self, x):\n",
    "        x = self.pool(F.relu(self.conv1(x)))\n",
    "        x = self.pool(F.relu(self.conv2(x)))\n",
    "        x = x.view(-1, 16 * 5 * 5)\n",
    "        x = F.relu(self.fc1(x))\n",
    "        x = F.relu(self.fc2(x))\n",
    "        x = self.fc3(x)\n",
    "\n",
    "        return x"
   ]
  },
  {
   "cell_type": "code",
   "execution_count": 147,
   "metadata": {},
   "outputs": [],
   "source": [
    "model = ConvNet().to(device)\n",
    "\n",
    "loss_fn = nn.CrossEntropyLoss()\n",
    "optimizer = torch.optim.SGD(model.parameters(), lr=0.001)"
   ]
  },
  {
   "cell_type": "code",
   "execution_count": 148,
   "metadata": {},
   "outputs": [
    {
     "name": "stdout",
     "output_type": "stream",
     "text": [
      "[1, 2000] loss: 2.3020380367040634\n",
      "[1, 4000] loss: 2.3009369457960127\n",
      "[1, 6000] loss: 2.2992586083809536\n",
      "[1, 8000] loss: 2.295315094232559\n",
      "[1, 10000] loss: 2.2832770945072176\n",
      "[1, 12000] loss: 2.256914022088051\n",
      "[2, 2000] loss: 2.2120393369115634\n",
      "[2, 4000] loss: 2.1798384481415605\n",
      "[2, 6000] loss: 2.148251631698093\n",
      "[2, 8000] loss: 2.1168837719457905\n",
      "[2, 10000] loss: 2.089891138619847\n",
      "[2, 12000] loss: 2.064040491950755\n",
      "[3, 2000] loss: 2.0335131165561853\n",
      "[3, 4000] loss: 2.009151073525692\n",
      "[3, 6000] loss: 1.9881725249867286\n",
      "[3, 8000] loss: 1.9671438406344617\n",
      "[3, 10000] loss: 1.9478481090579713\n",
      "[3, 12000] loss: 1.9286005257738603\n",
      "[4, 2000] loss: 1.9058382930106754\n",
      "[4, 4000] loss: 1.88929309168063\n",
      "[4, 6000] loss: 1.8729790903610746\n",
      "[4, 8000] loss: 1.8571055228304076\n",
      "[4, 10000] loss: 1.8416933927247399\n",
      "[4, 12000] loss: 1.8279981495810278\n",
      "[5, 2000] loss: 1.8106241663797544\n",
      "[5, 4000] loss: 1.7974841457125212\n",
      "[5, 6000] loss: 1.7850264632377242\n",
      "[5, 8000] loss: 1.7725842324505592\n",
      "[5, 10000] loss: 1.761141819575429\n",
      "[5, 12000] loss: 1.7495914781540631\n",
      "[6, 2000] loss: 1.7354182114231493\n",
      "[6, 4000] loss: 1.7247509566532042\n",
      "[6, 6000] loss: 1.714641831324701\n",
      "[6, 8000] loss: 1.7050916335808892\n",
      "[6, 10000] loss: 1.6955950539866398\n",
      "[6, 12000] loss: 1.686683214469844\n",
      "[7, 2000] loss: 1.6749722257411326\n",
      "[7, 4000] loss: 1.6660709467971626\n",
      "[7, 6000] loss: 1.6576323553167376\n",
      "[7, 8000] loss: 1.6493740872415792\n",
      "[7, 10000] loss: 1.6413848575576264\n",
      "[7, 12000] loss: 1.6336839633296276\n",
      "[8, 2000] loss: 1.6237675002961518\n",
      "[8, 4000] loss: 1.6160833157616887\n",
      "[8, 6000] loss: 1.6087323779095621\n",
      "[8, 8000] loss: 1.6015167292674017\n",
      "[8, 10000] loss: 1.5945072381370342\n",
      "[8, 12000] loss: 1.5877248260042625\n",
      "[9, 2000] loss: 1.5791361250962113\n",
      "[9, 4000] loss: 1.5725280372893724\n",
      "[9, 6000] loss: 1.5661266103872573\n",
      "[9, 8000] loss: 1.5592932522994363\n",
      "[9, 10000] loss: 1.5531932316960937\n",
      "[9, 12000] loss: 1.5472575111282059\n",
      "[10, 2000] loss: 1.539102259107227\n",
      "[10, 4000] loss: 1.5332345156547467\n",
      "[10, 6000] loss: 1.5271161548270833\n",
      "[10, 8000] loss: 1.5216801206704182\n",
      "[10, 10000] loss: 1.5162652876104932\n",
      "[10, 12000] loss: 1.5109192845076023\n"
     ]
    }
   ],
   "source": [
    "num_epochs = 10\n",
    "\n",
    "running_loss = []\n",
    "for epoch in range(num_epochs):\n",
    "    for i, (images, labels) in enumerate(train_loader):\n",
    "        images = images.to(device)\n",
    "        labels = labels.to(device)\n",
    "\n",
    "        # Forward pass\n",
    "        outputs = model(images)\n",
    "        loss = loss_fn(outputs, labels)\n",
    "\n",
    "        # Backward and optimize\n",
    "        optimizer.zero_grad()\n",
    "        loss.backward()\n",
    "        optimizer.step()\n",
    "\n",
    "        running_loss.append(loss.item())\n",
    "\n",
    "        if i % 2000 == 1999:\n",
    "            print('[{}, {}] loss: {}'.format(epoch + 1, i + 1, np.mean(running_loss)))"
   ]
  },
  {
   "cell_type": "markdown",
   "metadata": {},
   "source": [
    "# 8. Model Evaluation"
   ]
  },
  {
   "cell_type": "markdown",
   "metadata": {},
   "source": [
    "After we've made our predictions, we need to evaluate how well our model did. This will usually involve some sort of error metric, like Mean Absolute Error (MAE), Mean Squared Error (MSE), or Root Mean Squared Error (RMSE)."
   ]
  },
  {
   "cell_type": "code",
   "execution_count": 138,
   "metadata": {},
   "outputs": [],
   "source": [
    "test_accuracy = []\n",
    "with torch.no_grad():\n",
    "    correct = 0\n",
    "    total = 0\n",
    "    for images, labels in test_loader:\n",
    "        images = images.to(device)\n",
    "        labels = labels.to(device)\n",
    "\n",
    "        outputs = model(images)\n",
    "        _, predicted = torch.max(outputs.data, 1)\n",
    "\n",
    "        total += labels.size(0)\n",
    "        correct += (predicted == labels).sum().item()\n",
    "        test_accuracy.append(100 * correct / total)"
   ]
  },
  {
   "cell_type": "code",
   "execution_count": 149,
   "metadata": {},
   "outputs": [
    {
     "data": {
      "text/plain": [
       "<Axes: >"
      ]
     },
     "execution_count": 149,
     "metadata": {},
     "output_type": "execute_result"
    },
    {
     "data": {
      "image/png": "[encoded data removed]",
      "text/plain": [
       "<Figure size 640x480 with 1 Axes>"
      ]
     },
     "metadata": {},
     "output_type": "display_data"
    }
   ],
   "source": [
    "sns.lineplot(x=range(len(running_loss)), y=running_loss)"
   ]
  },
  {
   "cell_type": "code",
   "execution_count": 140,
   "metadata": {},
   "outputs": [
    {
     "data": {
      "text/plain": [
       "<Axes: >"
      ]
     },
     "execution_count": 140,
     "metadata": {},
     "output_type": "execute_result"
    },
    {
     "data": {
      "image/png": "[encoded data removed]",
      "text/plain": [
       "<Figure size 640x480 with 1 Axes>"
      ]
     },
     "metadata": {},
     "output_type": "display_data"
    }
   ],
   "source": [
    "sns.lineplot(x=range(len(test_accuracy)), y=test_accuracy)"
   ]
  },
  {
   "cell_type": "markdown",
   "metadata": {},
   "source": [
    "# 9. Conclusion"
   ]
  },
  {
   "cell_type": "markdown",
   "metadata": {},
   "source": [
    "In this final section, we'll recap what we've done and learned in this notebook. We might also discuss what we could do in future projects or how we could improve our current model.\n",
    "\n",
    "Remember, these are just guidelines. Your notebook should reflect your own style and approach to data science. The most important thing is that your notebook is clear, logical, and informative. Happy coding!\n",
    "\n",
    "Note: You can insert these section headings into your Jupyter notebook by changing a cell's type to \"Markdown\" and typing in the text. You can run a markdown cell in the same way you'd run a code cell (Shift+Enter)."
   ]
  },
  {
   "cell_type": "markdown",
   "metadata": {},
   "source": [
    "--- Conclusion ---"
   ]
  }
 ],
 "metadata": {
  "kernelspec": {
   "display_name": "venv",
   "language": "python",
   "name": "python3"
  },
  "language_info": {
   "codemirror_mode": {
    "name": "ipython",
    "version": 3
   },
   "file_extension": ".py",
   "mimetype": "text/x-python",
   "name": "python",
   "nbconvert_exporter": "python",
   "pygments_lexer": "ipython3",
   "version": "3.9.10"
  },
  "orig_nbformat": 4
 },
 "nbformat": 4,
 "nbformat_minor": 2
}
